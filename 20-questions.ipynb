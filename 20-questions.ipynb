{
 "cells": [
  {
   "cell_type": "markdown",
   "id": "19d4988d",
   "metadata": {},
   "source": [
    "# COSC-523 P2 Group 13: 20 Questions\n",
    "### Jared Bell, Imran Dewjee, Yair Elovic, Shiloh Parker"
   ]
  }
 ],
 "metadata": {
  "language_info": {
   "name": "python"
  }
 },
 "nbformat": 4,
 "nbformat_minor": 5
}
